{
 "cells": [
  {
   "cell_type": "code",
   "execution_count": 2,
   "metadata": {},
   "outputs": [
    {
     "ename": "ValueError",
     "evalue": "Cannot load file containing pickled data when allow_pickle=False",
     "output_type": "error",
     "traceback": [
      "\u001b[1;31m---------------------------------------------------------------------------\u001b[0m",
      "\u001b[1;31mValueError\u001b[0m                                Traceback (most recent call last)",
      "Cell \u001b[1;32mIn[2], line 12\u001b[0m\n\u001b[0;32m      9\u001b[0m df \u001b[39m=\u001b[39m pd\u001b[39m.\u001b[39mread_csv(\u001b[39m\"\u001b[39m\u001b[39mFinal_Dataframe.csv\u001b[39m\u001b[39m\"\u001b[39m)\n\u001b[0;32m     11\u001b[0m \u001b[39m#load trained similarity matrix\u001b[39;00m\n\u001b[1;32m---> 12\u001b[0m similarity_mtrx \u001b[39m=\u001b[39m np\u001b[39m.\u001b[39;49mload(\u001b[39m\"\u001b[39;49m\u001b[39msimilarity_mtrx.ipynb\u001b[39;49m\u001b[39m\"\u001b[39;49m)\n\u001b[0;32m     14\u001b[0m \u001b[39m@app\u001b[39m\u001b[39m.\u001b[39mroute(\u001b[39m\"\u001b[39m\u001b[39m/\u001b[39m\u001b[39m\"\u001b[39m)\n\u001b[0;32m     15\u001b[0m \u001b[39mdef\u001b[39;00m \u001b[39mwelcome\u001b[39m():\n\u001b[0;32m     16\u001b[0m     \u001b[39mreturn\u001b[39;00m \u001b[39m\"\u001b[39m\u001b[39mWelcome to homepage!\u001b[39m\u001b[39m\"\u001b[39m\n",
      "File \u001b[1;32mc:\\Users\\DELL\\AppData\\Local\\Programs\\Python\\Python311\\Lib\\site-packages\\numpy\\lib\\npyio.py:438\u001b[0m, in \u001b[0;36mload\u001b[1;34m(file, mmap_mode, allow_pickle, fix_imports, encoding, max_header_size)\u001b[0m\n\u001b[0;32m    435\u001b[0m \u001b[39melse\u001b[39;00m:\n\u001b[0;32m    436\u001b[0m     \u001b[39m# Try a pickle\u001b[39;00m\n\u001b[0;32m    437\u001b[0m     \u001b[39mif\u001b[39;00m \u001b[39mnot\u001b[39;00m allow_pickle:\n\u001b[1;32m--> 438\u001b[0m         \u001b[39mraise\u001b[39;00m \u001b[39mValueError\u001b[39;00m(\u001b[39m\"\u001b[39m\u001b[39mCannot load file containing pickled data \u001b[39m\u001b[39m\"\u001b[39m\n\u001b[0;32m    439\u001b[0m                          \u001b[39m\"\u001b[39m\u001b[39mwhen allow_pickle=False\u001b[39m\u001b[39m\"\u001b[39m)\n\u001b[0;32m    440\u001b[0m     \u001b[39mtry\u001b[39;00m:\n\u001b[0;32m    441\u001b[0m         \u001b[39mreturn\u001b[39;00m pickle\u001b[39m.\u001b[39mload(fid, \u001b[39m*\u001b[39m\u001b[39m*\u001b[39mpickle_kwargs)\n",
      "\u001b[1;31mValueError\u001b[0m: Cannot load file containing pickled data when allow_pickle=False"
     ]
    }
   ],
   "source": [
    "from flask import Flask, request\n",
    "import numpy as np\n",
    "import pandas as pd\n",
    "from flasgger import Swagger\n",
    "app = Flask(__name__)\n",
    "Swagger(app)\n",
    "\n",
    "#load the original dataset\n",
    "df = pd.read_csv(\"Final_Dataframe.csv\")\n",
    "\n",
    "#load trained similarity matrix\n",
    "similarity_mtrx = np.load(\"similarity_mtrx.ipynb\")\n",
    "\n",
    "@app.route(\"/\")\n",
    "def welcome():\n",
    "    return \"Welcome to homepage!\"\n",
    "\n",
    "@app.route(\"/predict\")\n",
    "def predict():\n",
    "    \"\"\"This will predict 3 most similar laptops to the\n",
    "    input query which is a laptop's full name\n",
    "    ---\n",
    "    parameters:\n",
    "        - name: laptopName\n",
    "          in: query\n",
    "          type: string\n",
    "          required: true\n",
    "    responses:\n",
    "        200:\n",
    "            description: The output Values\n",
    "    \"\"\"\n",
    "    laptop_name = request.args.get(\"laptopName\")\n",
    "    id = df[ df['laptop_name'] == laptop_name ].index[0]\n",
    "    similar_ids = similarity_mtrx[id, 1:4]\n",
    "    return df.iloc[similar_ids]\n",
    "\n",
    "\n",
    "if __name__ == \"__main__\":\n",
    "    app.run(host='localhost', port=6006)"
   ]
  }
 ],
 "metadata": {
  "kernelspec": {
   "display_name": "Python 3",
   "language": "python",
   "name": "python3"
  },
  "language_info": {
   "codemirror_mode": {
    "name": "ipython",
    "version": 3
   },
   "file_extension": ".py",
   "mimetype": "text/x-python",
   "name": "python",
   "nbconvert_exporter": "python",
   "pygments_lexer": "ipython3",
   "version": "3.11.0"
  },
  "orig_nbformat": 4
 },
 "nbformat": 4,
 "nbformat_minor": 2
}
